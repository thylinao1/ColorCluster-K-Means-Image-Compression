{
 "cells": [
  {
   "cell_type": "markdown",
   "id": "8b9c996c",
   "metadata": {},
   "source": [
    "### Cell 1 — Imports & inline plotting\n",
    "Loads NumPy, Matplotlib, and project utilities; enables inline plotting."
   ]
  },
  {
   "cell_type": "code",
   "execution_count": null,
   "id": "06877dc8",
   "metadata": {},
   "outputs": [],
   "source": [
    "import numpy as np\n",
    "import matplotlib.pyplot as plt\n",
    "from utils import *\n",
    "\n",
    "%matplotlib inline"
   ]
  },
  {
   "cell_type": "markdown",
   "id": "5905e139",
   "metadata": {},
   "source": [
    "### Cell 2 — Implement find_closest_centroids\n",
    "Assigns each example to the nearest centroid (cluster index) by distance."
   ]
  },
  {
   "cell_type": "code",
   "execution_count": null,
   "id": "cec7be45",
   "metadata": {},
   "outputs": [],
   "source": [
    "# UNQ_C1\n",
    "# GRADED FUNCTION: find_closest_centroids\n",
    "\n",
    "def find_closest_centroids(X, centroids):\n",
    "    \"\"\"\n",
    "    Computes the centroid memberships for every example\n",
    "    \n",
    "    Args:\n",
    "        X (ndarray): (m, n) Input values      \n",
    "        centroids (ndarray): (K, n) centroids\n",
    "    \n",
    "    Returns:\n",
    "        idx (array_like): (m,) closest centroids\n",
    "    \n",
    "    \"\"\"\n",
    "\n",
    "    # Set K\n",
    "    K = centroids.shape[0]\n",
    "\n",
    "    # You need to return the following variables correctly\n",
    "    idx = np.zeros(X.shape[0], dtype=int)\n",
    "\n",
    "    ### START CODE HERE ###\n",
    "    for i in range(X.shape[0]):\n",
    "        distance = []\n",
    "        for j in range(centroids.shape[0]):\n",
    "            norm_ij = np.linalg.norm(X[i] - centroids[j])\n",
    "            distance.append(norm_ij)\n",
    "        \n",
    "        idx[i] = np.argmin(distance)\n",
    "            \n",
    "            \n",
    "        \n",
    "     ### END CODE HERE ###\n",
    "    \n",
    "    return idx"
   ]
  },
  {
   "cell_type": "markdown",
   "id": "e0712ad6",
   "metadata": {},
   "source": [
    "### Cell 3 — Code cell\n",
    "Executes a step in the K-Means workflow (see comments in code)."
   ]
  },
  {
   "cell_type": "code",
   "execution_count": null,
   "id": "fb58f3a5",
   "metadata": {},
   "outputs": [],
   "source": [
    "# Load an example dataset that we will be using\n",
    "X = load_data()"
   ]
  },
  {
   "cell_type": "markdown",
   "id": "90a6aa63",
   "metadata": {},
   "source": [
    "### Cell 4 — Inspect X\n",
    "Prints a sample and the shape of X for a quick sanity check."
   ]
  },
  {
   "cell_type": "code",
   "execution_count": null,
   "id": "6d9bdbfa",
   "metadata": {},
   "outputs": [],
   "source": [
    "print(\"First five elements of X are:\\n\", X[:5]) \n",
    "print('The shape of X is:', X.shape)"
   ]
  },
  {
   "cell_type": "markdown",
   "id": "155e6bab",
   "metadata": {},
   "source": [
    "### Cell 5 — Cluster assignment\n",
    "Computes cluster index for each example using current centroids."
   ]
  },
  {
   "cell_type": "code",
   "execution_count": null,
   "id": "8df7e1d0",
   "metadata": {},
   "outputs": [],
   "source": [
    "# Select an initial set of centroids (3 Centroids)\n",
    "initial_centroids = np.array([[3,3], [6,2], [8,5]])\n",
    "\n",
    "# Find closest centroids using initial_centroids\n",
    "idx = find_closest_centroids(X, initial_centroids)\n",
    "\n",
    "# Print closest centroids for the first three elements\n",
    "print(\"First three elements in idx are:\", idx[:3])\n",
    "\n",
    "# UNIT TEST\n",
    "from public_tests import *\n",
    "\n",
    "find_closest_centroids_test(find_closest_centroids)"
   ]
  },
  {
   "cell_type": "markdown",
   "id": "e1e8c0e4",
   "metadata": {},
   "source": [
    "### Cell 6 — Implement compute_centroids\n",
    "Recomputes centroid locations as the mean of points assigned to each cluster."
   ]
  },
  {
   "cell_type": "code",
   "execution_count": null,
   "id": "e88f19a8",
   "metadata": {},
   "outputs": [],
   "source": [
    "# UNQ_C2\n",
    "# GRADED FUNCTION: compute_centroids\n",
    "\n",
    "def compute_centroids(X, idx, K):\n",
    "    \"\"\"\n",
    "    Returns the new centroids by computing the means of the \n",
    "    data points assigned to each centroid.\n",
    "    \n",
    "    Args:\n",
    "        X (ndarray):   (m, n) Data points\n",
    "        idx (ndarray): (m,) Array containing index of closest centroid for each \n",
    "                       example in X. Concretely, idx[i] contains the index of \n",
    "                       the centroid closest to example i\n",
    "        K (int):       number of centroids\n",
    "    \n",
    "    Returns:\n",
    "        centroids (ndarray): (K, n) New centroids computed\n",
    "    \"\"\"\n",
    "    \n",
    "    # Useful variables\n",
    "    m, n = X.shape\n",
    "    \n",
    "    # You need to return the following variables correctly\n",
    "    centroids = np.zeros((K, n))\n",
    "    \n",
    "    ### START CODE HERE ###\n",
    "    for j in range(K):\n",
    "        d = []\n",
    "        for i in range(idx.shape[0]):\n",
    "            if idx[i] == j:\n",
    "                d.append(X[i])\n",
    "                \n",
    "        centroids[j] = sum(d)/len(d)\n",
    "        \n",
    "        \n",
    "    ### END CODE HERE ## \n",
    "    \n",
    "    return centroids"
   ]
  },
  {
   "cell_type": "markdown",
   "id": "8c40fbfb",
   "metadata": {},
   "source": [
    "### Cell 7 — Code cell\n",
    "Executes a step in the K-Means workflow (see comments in code)."
   ]
  },
  {
   "cell_type": "code",
   "execution_count": null,
   "id": "de3abb4a",
   "metadata": {},
   "outputs": [],
   "source": [
    "K = 3\n",
    "centroids = compute_centroids(X, idx, K)\n",
    "\n",
    "print(\"The centroids are:\", centroids)\n",
    "\n",
    "# UNIT TEST\n",
    "compute_centroids_test(compute_centroids)"
   ]
  },
  {
   "cell_type": "markdown",
   "id": "b487b62f",
   "metadata": {},
   "source": [
    "### Cell 8 — Initialize and run K-Means\n",
    "Initializes centroids and runs the K-Means loop with optional progress plotting."
   ]
  },
  {
   "cell_type": "code",
   "execution_count": null,
   "id": "cbb48f21",
   "metadata": {},
   "outputs": [],
   "source": [
    "# You do not need to implement anything for this part\n",
    "\n",
    "def run_kMeans(X, initial_centroids, max_iters=10, plot_progress=False):\n",
    "    \"\"\"\n",
    "    Runs the K-Means algorithm on data matrix X, where each row of X\n",
    "    is a single example\n",
    "    \"\"\"\n",
    "    \n",
    "    # Initialize values\n",
    "    m, n = X.shape\n",
    "    K = initial_centroids.shape[0]\n",
    "    centroids = initial_centroids\n",
    "    previous_centroids = centroids    \n",
    "    idx = np.zeros(m)\n",
    "    plt.figure(figsize=(8, 6))\n",
    "\n",
    "    # Run K-Means\n",
    "    for i in range(max_iters):\n",
    "        \n",
    "        #Output progress\n",
    "        print(\"K-Means iteration %d/%d\" % (i, max_iters-1))\n",
    "        \n",
    "        # For each example in X, assign it to the closest centroid\n",
    "        idx = find_closest_centroids(X, centroids)\n",
    "        \n",
    "        # Optionally plot progress\n",
    "        if plot_progress:\n",
    "            plot_progress_kMeans(X, centroids, previous_centroids, idx, K, i)\n",
    "            previous_centroids = centroids\n",
    "            \n",
    "        # Given the memberships, compute new centroids\n",
    "        centroids = compute_centroids(X, idx, K)\n",
    "    plt.show() \n",
    "    return centroids, idx"
   ]
  },
  {
   "cell_type": "markdown",
   "id": "f17dc08e",
   "metadata": {},
   "source": [
    "### Cell 9 — Initialize and run K-Means\n",
    "Initializes centroids and runs the K-Means loop with optional progress plotting."
   ]
  },
  {
   "cell_type": "code",
   "execution_count": null,
   "id": "f9d74d01",
   "metadata": {},
   "outputs": [],
   "source": [
    "# Load an example dataset\n",
    "X = load_data()\n",
    "\n",
    "# Set initial centroids\n",
    "initial_centroids = np.array([[3,3],[6,2],[8,5]])\n",
    "\n",
    "# Number of iterations\n",
    "max_iters = 10\n",
    "\n",
    "# Run K-Means\n",
    "centroids, idx = run_kMeans(X, initial_centroids, max_iters, plot_progress=True)"
   ]
  },
  {
   "cell_type": "markdown",
   "id": "6aefd1a6",
   "metadata": {},
   "source": [
    "### Cell 10 — Implement kMeans_init_centroids\n",
    "Randomly selects K distinct examples from X to initialize centroids."
   ]
  },
  {
   "cell_type": "code",
   "execution_count": null,
   "id": "5236f300",
   "metadata": {},
   "outputs": [],
   "source": [
    "# You do not need to modify this part\n",
    "\n",
    "def kMeans_init_centroids(X, K):\n",
    "    \"\"\"\n",
    "    This function initializes K centroids that are to be \n",
    "    used in K-Means on the dataset X\n",
    "    \n",
    "    Args:\n",
    "        X (ndarray): Data points \n",
    "        K (int):     number of centroids/clusters\n",
    "    \n",
    "    Returns:\n",
    "        centroids (ndarray): Initialized centroids\n",
    "    \"\"\"\n",
    "    \n",
    "    # Randomly reorder the indices of examples\n",
    "    randidx = np.random.permutation(X.shape[0])\n",
    "    \n",
    "    # Take the first K examples as centroids\n",
    "    centroids = X[randidx[:K]]\n",
    "    \n",
    "    return centroids"
   ]
  },
  {
   "cell_type": "markdown",
   "id": "5705dd3c",
   "metadata": {},
   "source": [
    "### Cell 11 — Initialize and run K-Means\n",
    "Initializes centroids and runs the K-Means loop with optional progress plotting."
   ]
  },
  {
   "cell_type": "code",
   "execution_count": null,
   "id": "1c075e37",
   "metadata": {},
   "outputs": [],
   "source": [
    "# Run this cell repeatedly to see different outcomes.\n",
    "\n",
    "# Set number of centroids and max number of iterations\n",
    "K = 3\n",
    "max_iters = 10\n",
    "\n",
    "# Set initial centroids by picking random examples from the dataset\n",
    "initial_centroids = kMeans_init_centroids(X, K)\n",
    "\n",
    "# Run K-Means\n",
    "centroids, idx = run_kMeans(X, initial_centroids, max_iters, plot_progress=True)"
   ]
  },
  {
   "cell_type": "markdown",
   "id": "d7009369",
   "metadata": {},
   "source": [
    "### Cell 12 — Load small bird image\n",
    "Reads the example image for color compression."
   ]
  },
  {
   "cell_type": "code",
   "execution_count": null,
   "id": "6bd847a8",
   "metadata": {},
   "outputs": [],
   "source": [
    "# Load an image of a bird\n",
    "original_img = plt.imread('bird_small.png')"
   ]
  },
  {
   "cell_type": "markdown",
   "id": "73d8525d",
   "metadata": {},
   "source": [
    "### Cell 13 — Code cell\n",
    "Executes a step in the K-Means workflow (see comments in code)."
   ]
  },
  {
   "cell_type": "code",
   "execution_count": null,
   "id": "40c8d495",
   "metadata": {},
   "outputs": [],
   "source": [
    "# Visualizing the image\n",
    "plt.imshow(original_img)"
   ]
  },
  {
   "cell_type": "markdown",
   "id": "e86ad0c9",
   "metadata": {},
   "source": [
    "### Cell 14 — Inspect X\n",
    "Prints a sample and the shape of X for a quick sanity check."
   ]
  },
  {
   "cell_type": "code",
   "execution_count": null,
   "id": "1eb61b2a",
   "metadata": {},
   "outputs": [],
   "source": [
    "print(\"Shape of original_img is:\", original_img.shape)"
   ]
  },
  {
   "cell_type": "markdown",
   "id": "1d29338b",
   "metadata": {},
   "source": [
    "### Cell 15 — Code cell\n",
    "Executes a step in the K-Means workflow (see comments in code)."
   ]
  },
  {
   "cell_type": "code",
   "execution_count": null,
   "id": "39cd0742",
   "metadata": {},
   "outputs": [],
   "source": [
    "# Divide by 255 so that all values are in the range 0 - 1 (not needed for PNG files)\n",
    "# original_img = original_img / 255\n",
    "\n",
    "# Reshape the image into an m x 3 matrix where m = number of pixels\n",
    "# (in this case m = 128 x 128 = 16384)\n",
    "# Each row will contain the Red, Green and Blue pixel values\n",
    "# This gives us our dataset matrix X_img that we will use K-Means on.\n",
    "\n",
    "X_img = np.reshape(original_img, (original_img.shape[0] * original_img.shape[1], 3))"
   ]
  },
  {
   "cell_type": "markdown",
   "id": "9c0a550b",
   "metadata": {},
   "source": [
    "### Cell 16 — Initialize and run K-Means\n",
    "Initializes centroids and runs the K-Means loop with optional progress plotting."
   ]
  },
  {
   "cell_type": "code",
   "execution_count": null,
   "id": "f299a446",
   "metadata": {},
   "outputs": [],
   "source": [
    "# Run your K-Means algorithm on this data\n",
    "# You should try different values of K and max_iters here\n",
    "K = 16\n",
    "max_iters = 10\n",
    "\n",
    "# Using the function you have implemented above. \n",
    "initial_centroids = kMeans_init_centroids(X_img, K)\n",
    "\n",
    "# Run K-Means - this can take a couple of minutes depending on K and max_iters\n",
    "centroids, idx = run_kMeans(X_img, initial_centroids, max_iters)"
   ]
  },
  {
   "cell_type": "markdown",
   "id": "19b83318",
   "metadata": {},
   "source": [
    "### Cell 17 — Inspect X\n",
    "Prints a sample and the shape of X for a quick sanity check."
   ]
  },
  {
   "cell_type": "code",
   "execution_count": null,
   "id": "9801b518",
   "metadata": {},
   "outputs": [],
   "source": [
    "print(\"Shape of idx:\", idx.shape)\n",
    "print(\"Closest centroid for the first five elements:\", idx[:5])"
   ]
  },
  {
   "cell_type": "markdown",
   "id": "5ca122ea",
   "metadata": {},
   "source": [
    "### Cell 18 — Code cell\n",
    "Executes a step in the K-Means workflow (see comments in code)."
   ]
  },
  {
   "cell_type": "code",
   "execution_count": null,
   "id": "4906a60b",
   "metadata": {},
   "outputs": [],
   "source": [
    "# Plot the colors of the image and mark the centroids\n",
    "plot_kMeans_RGB(X_img, centroids, idx, K)"
   ]
  },
  {
   "cell_type": "markdown",
   "id": "e20210e1",
   "metadata": {},
   "source": [
    "### Cell 19 — Code cell\n",
    "Executes a step in the K-Means workflow (see comments in code)."
   ]
  },
  {
   "cell_type": "code",
   "execution_count": null,
   "id": "b77dd96e",
   "metadata": {},
   "outputs": [],
   "source": [
    "# Visualize the 16 colors selected\n",
    "show_centroid_colors(centroids)"
   ]
  },
  {
   "cell_type": "markdown",
   "id": "df999d79",
   "metadata": {},
   "source": [
    "### Cell 20 — Cluster assignment\n",
    "Computes cluster index for each example using current centroids."
   ]
  },
  {
   "cell_type": "code",
   "execution_count": null,
   "id": "ff15c96c",
   "metadata": {},
   "outputs": [],
   "source": [
    "# Find the closest centroid of each pixel\n",
    "idx = find_closest_centroids(X_img, centroids)\n",
    "\n",
    "# Replace each pixel with the color of the closest centroid\n",
    "X_recovered = centroids[idx, :] \n",
    "\n",
    "# Reshape image into proper dimensions\n",
    "X_recovered = np.reshape(X_recovered, original_img.shape) "
   ]
  },
  {
   "cell_type": "markdown",
   "id": "a7f52a27",
   "metadata": {},
   "source": [
    "### Cell 21 — Code cell\n",
    "Executes a step in the K-Means workflow (see comments in code)."
   ]
  },
  {
   "cell_type": "code",
   "execution_count": null,
   "id": "ba929978",
   "metadata": {},
   "outputs": [],
   "source": [
    "# Display original image\n",
    "fig, ax = plt.subplots(1,2, figsize=(16,16))\n",
    "plt.axis('off')\n",
    "\n",
    "ax[0].imshow(original_img)\n",
    "ax[0].set_title('Original')\n",
    "ax[0].set_axis_off()\n",
    "\n",
    "\n",
    "# Display compressed image\n",
    "ax[1].imshow(X_recovered)\n",
    "ax[1].set_title('Compressed with %d colours'%K)\n",
    "ax[1].set_axis_off()"
   ]
  }
 ],
 "metadata": {
  "kernelspec": {
   "display_name": "Python 3",
   "language": "python",
   "name": "python3"
  },
  "language_info": {
   "name": "python",
   "version": "3.x"
  }
 },
 "nbformat": 4,
 "nbformat_minor": 5
}
